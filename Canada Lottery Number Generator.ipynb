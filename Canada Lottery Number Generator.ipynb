{
 "cells": [
  {
   "cell_type": "markdown",
   "id": "4ab0caf9",
   "metadata": {},
   "source": [
    "## Ver. 1\n",
    "\n",
    "- Very, very simple. \n",
    "\n",
    "- Just creates all the numbers from the beginning and then compares them one by one and recreates them if they're the same number."
   ]
  },
  {
   "cell_type": "code",
   "execution_count": 7,
   "id": "c92541c3",
   "metadata": {},
   "outputs": [
    {
     "name": "stdout",
     "output_type": "stream",
     "text": [
      "[2, 4, 6, 10, 33, 38]\n"
     ]
    }
   ],
   "source": [
    "import random\n",
    "\n",
    "a = random.randint(1, 49)\n",
    "b = random.randint(1, 49)\n",
    "c = random.randint(1, 49)\n",
    "d = random.randint(1, 49)\n",
    "e = random.randint(1, 49)\n",
    "f = random.randint(1, 49)\n",
    "\n",
    "#int_number = [a, b, c, d, e, f]\n",
    "#print(sorted(int_number))\n",
    "\n",
    "while b == a:\n",
    "    b = random.randint(1, 49)\n",
    "\n",
    "while c == a or c == b:\n",
    "    c = random. randint(1, 49)\n",
    "    \n",
    "while d == a or d == b or d == c:\n",
    "    d = random. randint(1, 49)\n",
    "\n",
    "while e == a or e == b or e == c or e == d:\n",
    "    e = random. randint(1, 49)\n",
    "\n",
    "while f == a or f == b or f == c or f == d or f == e:\n",
    "    f = random. randint(1, 49)\n",
    "\n",
    "print(sorted([a, b, c, d, e, f]))"
   ]
  },
  {
   "cell_type": "markdown",
   "id": "5f22ff72",
   "metadata": {},
   "source": [
    "## Ver. 2\n",
    "\n",
    "- Generates only one number at the beginning.\n",
    "\n",
    "- Then, using an infinite loop, generate next number and compare the numbers and break the loop when they're not the same number."
   ]
  },
  {
   "cell_type": "code",
   "execution_count": 8,
   "id": "fac40d45",
   "metadata": {},
   "outputs": [
    {
     "name": "stdout",
     "output_type": "stream",
     "text": [
      "13 25 28 30 32 35 "
     ]
    }
   ],
   "source": [
    "import random\n",
    "\n",
    "a = random.randint(1, 49)\n",
    "\n",
    "while True:\n",
    "    b = random.randint(1, 49)\n",
    "    if a != b:\n",
    "        break\n",
    "\n",
    "while True:\n",
    "    c = random.randint(1, 49)\n",
    "    if a != c and b != c:\n",
    "        break\n",
    "\n",
    "while True:\n",
    "    d = random.randint(1, 49)\n",
    "    if a != d and b != d and c != d:\n",
    "        break\n",
    "\n",
    "while True:\n",
    "    e = random.randint(1, 49)\n",
    "    if a != e and b != e and c != e and d != e:\n",
    "        break\n",
    "\n",
    "while True:\n",
    "    f = random.randint(1, 49)\n",
    "    if a != f and b != f and c != f and d != f and e != f:\n",
    "        break\n",
    "\n",
    "lottery = sorted([a, b, c, d, e, f])\n",
    "\n",
    "for num in lottery:\n",
    "    print(num, end=' ')"
   ]
  },
  {
   "cell_type": "markdown",
   "id": "3ce0d55b",
   "metadata": {},
   "source": [
    "## Ver. 3\n",
    "\n",
    "- Added lottery type selection function.\n",
    "\n",
    "- Generates 7 numbers when selecting 'Lotto Max' and 6 numbers when selecting 'Lotto 6/49'.\n",
    "\n",
    "- Used `for` and `while` to reduce code lines for number generation and comparison.\n",
    "\n",
    "- Added the result section(?)."
   ]
  },
  {
   "cell_type": "code",
   "execution_count": 18,
   "id": "da9f6dca",
   "metadata": {
    "scrolled": true
   },
   "outputs": [
    {
     "name": "stdout",
     "output_type": "stream",
     "text": [
      "Select your lottery type: \n",
      "1. Lotto Max | 2. Lotto 6/49\n",
      "1\n",
      "Your lottery numbers:\n",
      "\n",
      "17 32 34 36 37 38 49 "
     ]
    }
   ],
   "source": [
    "import random\n",
    "import sys\n",
    "\n",
    "print('Select your lottery type: \\n1. Lotto Max | 2. Lotto 6/49')\n",
    "\n",
    "answer = int(input())\n",
    "\n",
    "if answer != 1 and answer != 2:\n",
    "    sys.exit('You chose the wrong type of lottery. Please try again.')\n",
    "  \n",
    "lottery_numbers = []\n",
    "\n",
    "if answer == 1:\n",
    "    numbers = 7\n",
    "    \n",
    "elif answer == 2:\n",
    "    numbers = 6\n",
    "\n",
    "for i in range(0, numbers):\n",
    "    number = random.randint(1, 49)\n",
    "    \n",
    "    while number in lottery_numbers:\n",
    "        number = random.randint(1, 49)\n",
    "\n",
    "    lottery_numbers.append(number)\n",
    "\n",
    "lottery_numbers.sort()\n",
    "\n",
    "print('Your lottery numbers:\\n')\n",
    "\n",
    "for num in lottery_numbers:\n",
    "    print(num, end=' ')"
   ]
  },
  {
   "cell_type": "markdown",
   "id": "890cde56",
   "metadata": {},
   "source": [
    "## Ver. 4\n",
    "\n",
    "- Used String Formatting to decorate the Input and Results sections to increase readability (and beauty a little).\n",
    "\n",
    "- Added one more type of lottery. When selecting 'Daily Grand', generates five numbers between 1 and 49 and one grand number between 1 and 7.\n",
    "\n",
    "- Added a lottery type tuple. Utilizes the objects in Tuple to generate the lottery numbers and shows the type of lottery selected in the Results section.\n",
    "\n",
    "- Add a positive phrase for good luck."
   ]
  },
  {
   "cell_type": "code",
   "execution_count": 17,
   "id": "5fdfde18",
   "metadata": {
    "scrolled": true
   },
   "outputs": [
    {
     "name": "stdout",
     "output_type": "stream",
     "text": [
      "******** Select your Canada lottery type *********\n",
      "--------------------------------------------------\n",
      "  1. Lotto Max | 2. Lotto 6/49 | 3. Daily Grand   \n",
      "--------------------------------------------------\n",
      "3\n",
      "\n",
      "============ Your Daily Grand numbers ============\n",
      "\n",
      "         13   23   37   39   44  &  GN 4          \n",
      "\n",
      "=================== Good luck! ===================\n"
     ]
    }
   ],
   "source": [
    "import random\n",
    "import sys\n",
    "\n",
    "print('{:*^50}'.format(' Select your Canada lottery type '))\n",
    "print('-' * 50)\n",
    "print('{: ^50}'.format('1. Lotto Max | 2. Lotto 6/49 | 3. Daily Grand'))\n",
    "print('-' * 50)\n",
    "\n",
    "answer = input()\n",
    "\n",
    "type = (('Lotto Max', 7),\n",
    "        ('Lotto 6/49', 6),\n",
    "        ('Daily Grand', 5))\n",
    "\n",
    "if answer != '1' and answer != '2' and answer != '3':\n",
    "    sys.exit('<<< You chose the wrong type of lottery. Please try again. >>>')\n",
    "  \n",
    "numbers = []\n",
    "answer = int(answer)\n",
    "\n",
    "for i in range(0, type[answer - 1][1]):\n",
    "    number = random.randint(1, 49)\n",
    "    \n",
    "    while number in numbers:\n",
    "        number = random.randint(1, 49)\n",
    "\n",
    "    numbers.append(number)\n",
    "\n",
    "numbers.sort()\n",
    "\n",
    "numbers_string = map(str, numbers)    \n",
    "\n",
    "lottery_numbers = '   '.join(numbers_string)\n",
    "\n",
    "if answer == 3:\n",
    "    lottery_numbers = lottery_numbers + '  &  GN ' + str(random.randint(1, 7))\n",
    "\n",
    "lottery_type = ' Your ' + str(type[answer - 1][0]) + ' numbers '\n",
    "\n",
    "print('\\n{:=^50}'.format(lottery_type))\n",
    "print('\\n{: ^50}'.format(lottery_numbers))\n",
    "print('\\n{:=^50}'.format(' Good luck! '))"
   ]
  },
  {
   "cell_type": "code",
   "execution_count": null,
   "id": "b75c8132",
   "metadata": {},
   "outputs": [],
   "source": []
  }
 ],
 "metadata": {
  "kernelspec": {
   "display_name": "Python 3",
   "language": "python",
   "name": "python3"
  },
  "language_info": {
   "codemirror_mode": {
    "name": "ipython",
    "version": 3
   },
   "file_extension": ".py",
   "mimetype": "text/x-python",
   "name": "python",
   "nbconvert_exporter": "python",
   "pygments_lexer": "ipython3",
   "version": "3.9.2"
  }
 },
 "nbformat": 4,
 "nbformat_minor": 5
}
